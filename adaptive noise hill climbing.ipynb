{
 "cells": [
  {
   "cell_type": "code",
   "execution_count": 4,
   "metadata": {},
   "outputs": [],
   "source": [
    "import gym\n",
    "import numpy as np\n",
    "import matplotlib.pyplot as plt\n",
    "%matplotlib inline\n",
    "from collections import OrderedDict\n",
    "#!python -m pip3 install pyvirtualdisplay\n",
    "from pyvirtualdisplay import Display\n",
    "display = Display(visible=0, size=(1400, 900))\n",
    "display.start()\n",
    "\n",
    "is_ipython = 'inline' in plt.get_backend()\n",
    "if is_ipython:\n",
    "    from IPython import display\n",
    "\n",
    "plt.ion()"
   ]
  },
  {
   "cell_type": "code",
   "execution_count": 2,
   "metadata": {},
   "outputs": [
    {
     "name": "stdout",
     "output_type": "stream",
     "text": [
      "observation space: Box(4,)\n",
      "action space: Discrete(2)\n"
     ]
    }
   ],
   "source": [
    "env = gym.make('CartPole-v0')\n",
    "print('observation space:', env.observation_space)\n",
    "print('action space:', env.action_space)"
   ]
  },
  {
   "cell_type": "code",
   "execution_count": 3,
   "metadata": {},
   "outputs": [],
   "source": [
    "class policy():\n",
    "    def __init__(self,state_size,action_size):\n",
    "        self.w = np.random.randn(state_size,action_size)\n",
    "    def get_prob(self,state):\n",
    "        x = np.dot(state, self.w)\n",
    "        return np.exp(x)/sum(np.exp(x))\n",
    "    def act(self,state):\n",
    "        action = self.get_prob(state)\n",
    "        return np.argmax(action)"
   ]
  },
  {
   "cell_type": "code",
   "execution_count": 43,
   "metadata": {},
   "outputs": [
    {
     "name": "stdout",
     "output_type": "stream",
     "text": [
      "10.0\n",
      "env solved in epoch 7 score 200.0\n"
     ]
    }
   ],
   "source": [
    "def evaluate(policy,gamma, max_t=1000):\n",
    "    rewards = []\n",
    "    state = env.reset()\n",
    "    for t in range(max_t):\n",
    "        action = policy.act(state)\n",
    "        state, reward, done, _ = env.step(action)\n",
    "        rewards.append(reward * (gamma ** t))\n",
    "        if done:\n",
    "            break\n",
    "    return sum(rewards)\n",
    "def best_policy(cpolicy,num_policy,gamma,noise_scale):\n",
    "    policies=OrderedDict()\n",
    "    scores=OrderedDict()\n",
    "    p =  policy(4,2)\n",
    "    for i in range(num_policy):\n",
    "        p.w = cpolicy.w + np.random.normal(0,noise_scale,(4,2))\n",
    "        scores[i] = evaluate(p,gamma)\n",
    "        policies[i] = p.w\n",
    "    argmax= np.argmax([v for v in scores.values()])\n",
    "    #print(scores,argmax)\n",
    "    return (scores[argmax],policies[argmax])\n",
    "def hill_climbing(n_episodes=1000, max_t=1000, gamma=1.0, print_every=100, noise_scale=1e-2,num_policy=20):\n",
    "    best_score = - np.NINF\n",
    "    agentpolicy = policy(4,2)\n",
    "    best_weight = agentpolicy.w\n",
    "    for j in range(n_episodes):\n",
    "        score,agentpolicy.w = best_policy(agentpolicy,num_policy,gamma,noise_scale)\n",
    "        if(score>best_score):\n",
    "            best_score = score\n",
    "            noise_scale = max(1e-3,noise_scale/2)\n",
    "            #agentpolicy.w = best_weight + noise_scale * np.random.rand(*agentpolicy.w.shape)\n",
    "        else:\n",
    "            noise_scale = min(2,noise_scale*2)\n",
    "        if(j % print_every == 0):\n",
    "            print(score)\n",
    "        if(score>195.0):\n",
    "            print(\"env solved in epoch {0} score {1}\".format(j,score))\n",
    "            break\n",
    "hill_climbing()"
   ]
  },
  {
   "cell_type": "code",
   "execution_count": 23,
   "metadata": {},
   "outputs": [
    {
     "data": {
      "text/plain": [
       "array([[ 2.42240011e-01, -4.68416435e+00],\n",
       "       [-4.63461537e-01,  1.86744980e+00],\n",
       "       [ 1.39179430e+00,  1.29757929e+00],\n",
       "       [-5.65614591e-03, -8.31593681e+00]])"
      ]
     },
     "execution_count": 23,
     "metadata": {},
     "output_type": "execute_result"
    }
   ],
   "source": [
    "np.random.normal(0,2,(4,2))"
   ]
  },
  {
   "cell_type": "code",
   "execution_count": null,
   "metadata": {},
   "outputs": [],
   "source": []
  }
 ],
 "metadata": {
  "kernelspec": {
   "display_name": "Python 3",
   "language": "python",
   "name": "python3"
  },
  "language_info": {
   "codemirror_mode": {
    "name": "ipython",
    "version": 3
   },
   "file_extension": ".py",
   "mimetype": "text/x-python",
   "name": "python",
   "nbconvert_exporter": "python",
   "pygments_lexer": "ipython3",
   "version": "3.6.8"
  }
 },
 "nbformat": 4,
 "nbformat_minor": 2
}

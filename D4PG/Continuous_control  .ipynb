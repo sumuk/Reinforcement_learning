{
 "cells": [
  {
   "cell_type": "markdown",
   "metadata": {},
   "source": [
    "In this notebook, we will learn  how to sol the Unity ML-Agents environment for the second project of the Deep Reinforcement Learning Nanodegree program."
   ]
  },
  {
   "cell_type": "code",
   "execution_count": 1,
   "metadata": {},
   "outputs": [
    {
     "name": "stderr",
     "output_type": "stream",
     "text": [
      "INFO:unityagents:\n",
      "'Academy' started successfully!\n",
      "Unity Academy name: Academy\n",
      "        Number of Brains: 1\n",
      "        Number of External Brains : 1\n",
      "        Lesson number : 0\n",
      "        Reset Parameters :\n",
      "\t\tgoal_speed -> 1.0\n",
      "\t\tgoal_size -> 5.0\n",
      "Unity brain name: ReacherBrain\n",
      "        Number of Visual Observations (per agent): 0\n",
      "        Vector Observation space type: continuous\n",
      "        Vector Observation space size (per agent): 33\n",
      "        Number of stacked Vector Observation: 1\n",
      "        Vector Action space type: continuous\n",
      "        Vector Action space size (per agent): 4\n",
      "        Vector Action descriptions: , , , \n"
     ]
    }
   ],
   "source": [
    "from unityagents import UnityEnvironment\n",
    "from sumuk_ddpg_agent import *\n",
    "import numpy as np\n",
    "env = UnityEnvironment(file_name='Reacher_Linux_20/Reacher.x86_64')\n",
    "# get the default brain\n",
    "brain_name = env.brain_names[0]\n",
    "brain = env.brains[brain_name]\n",
    "        "
   ]
  },
  {
   "cell_type": "code",
   "execution_count": 2,
   "metadata": {},
   "outputs": [
    {
     "name": "stdout",
     "output_type": "stream",
     "text": [
      "20\n",
      "4\n"
     ]
    }
   ],
   "source": [
    "env_info = env.reset(train_mode=True)[brain_name]     # reset the environment    \n",
    "num_agents = len(env_info.agents)\n",
    "print(num_agents)\n",
    "states = env_info.vector_observations\n",
    "action_size = brain.vector_action_space_size\n",
    "# get the current state (for each agent)\n",
    "scores = np.zeros(num_agents)\n",
    "replaybuffer=ReplayBuffer(int(1e6))\n",
    "agent=[]\n",
    "for _ in range(num_agents//5):\n",
    "    a = DDPGAgent(1024,states.shape[1],action_size,51,replaybuffer)\n",
    "    agent.append(a)\n",
    "print(len(agent))"
   ]
  },
  {
   "cell_type": "code",
   "execution_count": 3,
   "metadata": {
    "scrolled": true
   },
   "outputs": [
    {
     "name": "stderr",
     "output_type": "stream",
     "text": [
      "/usr/local/lib/python3.6/dist-packages/torch/nn/functional.py:1320: UserWarning: nn.functional.tanh is deprecated. Use torch.tanh instead.\n",
      "  warnings.warn(\"nn.functional.tanh is deprecated. Use torch.tanh instead.\")\n"
     ]
    },
    {
     "name": "stdout",
     "output_type": "stream",
     "text": [
      "Episode 0\tTotal Average Score: 0.33\tMean: 0.33\tMin: 0.00\tMax: 1.06\tDuration: 660.47\n",
      "Episode 1\tTotal Average Score: 0.53\tMean: 0.72\tMin: 0.13\tMax: 1.40\tDuration: 705.07\n",
      "Episode 2\tTotal Average Score: 0.60\tMean: 0.73\tMin: 0.26\tMax: 1.35\tDuration: 711.70\n",
      "Episode 3\tTotal Average Score: 0.66\tMean: 0.85\tMin: 0.13\tMax: 1.67\tDuration: 706.87\n",
      "Episode 4\tTotal Average Score: 0.63\tMean: 0.50\tMin: 0.00\tMax: 1.38\tDuration: 711.74\n",
      "Episode 5\tTotal Average Score: 0.65\tMean: 0.77\tMin: 0.19\tMax: 2.08\tDuration: 707.77\n",
      "Episode 6\tTotal Average Score: 0.67\tMean: 0.78\tMin: 0.07\tMax: 1.52\tDuration: 714.08\n",
      "Episode 7\tTotal Average Score: 0.74\tMean: 1.22\tMin: 0.06\tMax: 3.15\tDuration: 716.09\n",
      "Episode 8\tTotal Average Score: 0.83\tMean: 1.52\tMin: 0.47\tMax: 2.65\tDuration: 720.75\n",
      "Episode 9\tTotal Average Score: 0.89\tMean: 1.49\tMin: 0.46\tMax: 2.81\tDuration: 725.75\n",
      "Episode 10\tTotal Average Score: 0.93\tMean: 1.31\tMin: 0.19\tMax: 2.50\tDuration: 728.61\n",
      "Episode 11\tTotal Average Score: 1.00\tMean: 1.72\tMin: 0.68\tMax: 3.45\tDuration: 726.84\n",
      "Episode 12\tTotal Average Score: 1.09\tMean: 2.15\tMin: 0.43\tMax: 5.71\tDuration: 736.98\n",
      "Episode 13\tTotal Average Score: 1.21\tMean: 2.89\tMin: 0.70\tMax: 5.70\tDuration: 737.04\n",
      "Episode 14\tTotal Average Score: 1.33\tMean: 3.02\tMin: 0.45\tMax: 5.76\tDuration: 746.68\n",
      "Episode 15\tTotal Average Score: 1.44\tMean: 3.08\tMin: 1.09\tMax: 6.25\tDuration: 744.59\n",
      "Episode 16\tTotal Average Score: 1.64\tMean: 4.77\tMin: 1.21\tMax: 7.81\tDuration: 750.74\n",
      "Episode 17\tTotal Average Score: 1.88\tMean: 5.98\tMin: 1.19\tMax: 10.23\tDuration: 756.13\n",
      "Episode 18\tTotal Average Score: 2.17\tMean: 7.39\tMin: 1.17\tMax: 14.48\tDuration: 760.91\n",
      "Episode 19\tTotal Average Score: 2.47\tMean: 8.15\tMin: 2.77\tMax: 22.10\tDuration: 759.22\n",
      "Episode 20\tTotal Average Score: 3.00\tMean: 13.64\tMin: 1.84\tMax: 25.56\tDuration: 768.61\n",
      "Episode 21\tTotal Average Score: 3.55\tMean: 14.97\tMin: 3.59\tMax: 22.34\tDuration: 768.15\n",
      "Episode 22\tTotal Average Score: 4.32\tMean: 21.36\tMin: 6.05\tMax: 31.62\tDuration: 771.08\n",
      "Episode 23\tTotal Average Score: 5.15\tMean: 24.36\tMin: 11.16\tMax: 30.67\tDuration: 777.14\n",
      "Episode 24\tTotal Average Score: 6.18\tMean: 30.90\tMin: 20.48\tMax: 38.71\tDuration: 777.53\n",
      "Episode 25\tTotal Average Score: 7.23\tMean: 33.26\tMin: 21.16\tMax: 38.45\tDuration: 779.88\n",
      "Episode 26\tTotal Average Score: 8.28\tMean: 35.64\tMin: 27.66\tMax: 39.63\tDuration: 784.81\n",
      "Episode 27\tTotal Average Score: 9.25\tMean: 35.60\tMin: 29.24\tMax: 39.43\tDuration: 787.25\n",
      "Episode 28\tTotal Average Score: 10.20\tMean: 36.64\tMin: 32.39\tMax: 39.60\tDuration: 796.55\n",
      "Episode 29\tTotal Average Score: 11.04\tMean: 35.40\tMin: 30.70\tMax: 38.26\tDuration: 798.53\n",
      "Episode 30\tTotal Average Score: 11.86\tMean: 36.60\tMin: 31.44\tMax: 39.29\tDuration: 802.70\n",
      "Episode 31\tTotal Average Score: 12.66\tMean: 37.45\tMin: 33.73\tMax: 38.90\tDuration: 813.98\n",
      "Episode 32\tTotal Average Score: 13.44\tMean: 38.34\tMin: 35.46\tMax: 39.61\tDuration: 812.55\n",
      "Episode 33\tTotal Average Score: 14.18\tMean: 38.65\tMin: 36.83\tMax: 39.65\tDuration: 818.61\n",
      "Episode 34\tTotal Average Score: 14.86\tMean: 38.07\tMin: 34.26\tMax: 39.61\tDuration: 822.61\n",
      "Episode 35\tTotal Average Score: 15.52\tMean: 38.28\tMin: 36.05\tMax: 39.62\tDuration: 821.22\n",
      "Episode 36\tTotal Average Score: 16.14\tMean: 38.64\tMin: 36.94\tMax: 39.30\tDuration: 823.96\n",
      "Episode 37\tTotal Average Score: 16.73\tMean: 38.72\tMin: 37.75\tMax: 39.43\tDuration: 830.99\n",
      "Episode 38\tTotal Average Score: 17.30\tMean: 38.77\tMin: 36.37\tMax: 39.59\tDuration: 833.12\n",
      "Episode 39\tTotal Average Score: 17.82\tMean: 38.03\tMin: 34.86\tMax: 39.61\tDuration: 835.93\n",
      "Episode 40\tTotal Average Score: 18.33\tMean: 38.91\tMin: 37.71\tMax: 39.57\tDuration: 837.20\n",
      "Episode 41\tTotal Average Score: 18.82\tMean: 38.93\tMin: 37.93\tMax: 39.65\tDuration: 842.73\n",
      "Episode 42\tTotal Average Score: 19.29\tMean: 38.94\tMin: 38.21\tMax: 39.61\tDuration: 843.26\n",
      "Episode 43\tTotal Average Score: 19.73\tMean: 38.69\tMin: 37.57\tMax: 39.60\tDuration: 850.76\n",
      "Episode 44\tTotal Average Score: 20.16\tMean: 38.81\tMin: 36.47\tMax: 39.58\tDuration: 850.10\n",
      "Episode 45\tTotal Average Score: 20.55\tMean: 38.33\tMin: 36.81\tMax: 39.29\tDuration: 854.97\n",
      "Episode 46\tTotal Average Score: 20.92\tMean: 37.96\tMin: 34.61\tMax: 39.49\tDuration: 862.34\n",
      "Episode 47\tTotal Average Score: 21.29\tMean: 38.58\tMin: 37.11\tMax: 39.54\tDuration: 863.91\n",
      "Episode 48\tTotal Average Score: 21.64\tMean: 38.60\tMin: 37.44\tMax: 39.58\tDuration: 875.29\n",
      "Episode 49\tTotal Average Score: 21.97\tMean: 37.98\tMin: 36.56\tMax: 39.48\tDuration: 866.87\n",
      "Episode 50\tTotal Average Score: 22.29\tMean: 38.11\tMin: 36.94\tMax: 39.60\tDuration: 872.55\n",
      "Episode 51\tTotal Average Score: 22.61\tMean: 38.94\tMin: 38.11\tMax: 39.53\tDuration: 877.84\n",
      "Episode 52\tTotal Average Score: 22.91\tMean: 38.52\tMin: 36.93\tMax: 39.62\tDuration: 873.42\n",
      "Episode 53\tTotal Average Score: 23.20\tMean: 38.55\tMin: 37.20\tMax: 39.52\tDuration: 875.03\n",
      "Episode 54\tTotal Average Score: 23.48\tMean: 38.79\tMin: 37.45\tMax: 39.62\tDuration: 871.83\n",
      "Episode 55\tTotal Average Score: 23.73\tMean: 37.76\tMin: 34.88\tMax: 39.44\tDuration: 877.41\n",
      "Episode 56\tTotal Average Score: 23.99\tMean: 38.44\tMin: 37.19\tMax: 39.57\tDuration: 876.23\n",
      "Episode 57\tTotal Average Score: 24.24\tMean: 38.55\tMin: 36.69\tMax: 39.60\tDuration: 880.24\n",
      "Episode 58\tTotal Average Score: 24.49\tMean: 38.78\tMin: 37.52\tMax: 39.62\tDuration: 874.46\n",
      "Episode 59\tTotal Average Score: 24.72\tMean: 38.27\tMin: 35.88\tMax: 39.41\tDuration: 873.95\n",
      "Episode 60\tTotal Average Score: 24.95\tMean: 38.53\tMin: 36.91\tMax: 39.31\tDuration: 881.63\n",
      "Episode 61\tTotal Average Score: 25.17\tMean: 38.65\tMin: 37.22\tMax: 39.61\tDuration: 882.66\n",
      "Episode 62\tTotal Average Score: 25.38\tMean: 38.86\tMin: 37.26\tMax: 39.53\tDuration: 886.68\n",
      "Episode 63\tTotal Average Score: 25.59\tMean: 38.60\tMin: 37.64\tMax: 39.21\tDuration: 886.26\n",
      "Episode 64\tTotal Average Score: 25.78\tMean: 38.21\tMin: 36.65\tMax: 39.42\tDuration: 883.96\n",
      "Episode 65\tTotal Average Score: 25.98\tMean: 38.81\tMin: 37.25\tMax: 39.62\tDuration: 889.75\n"
     ]
    },
    {
     "ename": "KeyboardInterrupt",
     "evalue": "",
     "output_type": "error",
     "traceback": [
      "\u001b[0;31m---------------------------------------------------------------------------\u001b[0m",
      "\u001b[0;31mKeyboardInterrupt\u001b[0m                         Traceback (most recent call last)",
      "\u001b[0;32m<ipython-input-3-3befdd3e4370>\u001b[0m in \u001b[0;36m<module>\u001b[0;34m\u001b[0m\n\u001b[1;32m     20\u001b[0m             \u001b[0mactions\u001b[0m\u001b[0;34m.\u001b[0m\u001b[0mextend\u001b[0m\u001b[0;34m(\u001b[0m\u001b[0magent\u001b[0m\u001b[0;34m[\u001b[0m\u001b[0magent_no\u001b[0m\u001b[0;34m]\u001b[0m\u001b[0;34m.\u001b[0m\u001b[0mpolicy\u001b[0m\u001b[0;34m(\u001b[0m\u001b[0mstates\u001b[0m\u001b[0;34m[\u001b[0m\u001b[0magent_no\u001b[0m\u001b[0;34m*\u001b[0m\u001b[0;36m5\u001b[0m\u001b[0;34m:\u001b[0m\u001b[0magent_no\u001b[0m\u001b[0;34m*\u001b[0m\u001b[0;36m5\u001b[0m\u001b[0;34m+\u001b[0m\u001b[0;36m5\u001b[0m\u001b[0;34m,\u001b[0m\u001b[0;34m:\u001b[0m\u001b[0;34m]\u001b[0m\u001b[0;34m)\u001b[0m\u001b[0;34m)\u001b[0m\u001b[0;31m# select an action (for each agent)\u001b[0m\u001b[0;34m\u001b[0m\u001b[0;34m\u001b[0m\u001b[0m\n\u001b[1;32m     21\u001b[0m         \u001b[0mactions\u001b[0m \u001b[0;34m=\u001b[0m \u001b[0mnp\u001b[0m\u001b[0;34m.\u001b[0m\u001b[0marray\u001b[0m\u001b[0;34m(\u001b[0m\u001b[0mactions\u001b[0m\u001b[0;34m)\u001b[0m\u001b[0;34m\u001b[0m\u001b[0;34m\u001b[0m\u001b[0m\n\u001b[0;32m---> 22\u001b[0;31m         \u001b[0menv_info\u001b[0m \u001b[0;34m=\u001b[0m \u001b[0menv\u001b[0m\u001b[0;34m.\u001b[0m\u001b[0mstep\u001b[0m\u001b[0;34m(\u001b[0m\u001b[0mactions\u001b[0m\u001b[0;34m)\u001b[0m\u001b[0;34m[\u001b[0m\u001b[0mbrain_name\u001b[0m\u001b[0;34m]\u001b[0m           \u001b[0;31m# send all actions to tne environment\u001b[0m\u001b[0;34m\u001b[0m\u001b[0;34m\u001b[0m\u001b[0m\n\u001b[0m\u001b[1;32m     23\u001b[0m         \u001b[0mnext_states\u001b[0m \u001b[0;34m=\u001b[0m \u001b[0menv_info\u001b[0m\u001b[0;34m.\u001b[0m\u001b[0mvector_observations\u001b[0m         \u001b[0;31m# get next state (for each agent)\u001b[0m\u001b[0;34m\u001b[0m\u001b[0;34m\u001b[0m\u001b[0m\n\u001b[1;32m     24\u001b[0m         \u001b[0mrewards\u001b[0m \u001b[0;34m=\u001b[0m \u001b[0menv_info\u001b[0m\u001b[0;34m.\u001b[0m\u001b[0mrewards\u001b[0m                         \u001b[0;31m# get reward (for each agent)\u001b[0m\u001b[0;34m\u001b[0m\u001b[0;34m\u001b[0m\u001b[0m\n",
      "\u001b[0;32m/usr/local/lib/python3.6/dist-packages/unityagents/environment.py\u001b[0m in \u001b[0;36mstep\u001b[0;34m(self, vector_action, memory, text_action)\u001b[0m\n\u001b[1;32m    367\u001b[0m \u001b[0;34m\u001b[0m\u001b[0m\n\u001b[1;32m    368\u001b[0m             outputs = self.communicator.exchange(\n\u001b[0;32m--> 369\u001b[0;31m                 \u001b[0mself\u001b[0m\u001b[0;34m.\u001b[0m\u001b[0m_generate_step_input\u001b[0m\u001b[0;34m(\u001b[0m\u001b[0mvector_action\u001b[0m\u001b[0;34m,\u001b[0m \u001b[0mmemory\u001b[0m\u001b[0;34m,\u001b[0m \u001b[0mtext_action\u001b[0m\u001b[0;34m)\u001b[0m\u001b[0;34m\u001b[0m\u001b[0;34m\u001b[0m\u001b[0m\n\u001b[0m\u001b[1;32m    370\u001b[0m             )\n\u001b[1;32m    371\u001b[0m             \u001b[0;32mif\u001b[0m \u001b[0moutputs\u001b[0m \u001b[0;32mis\u001b[0m \u001b[0;32mNone\u001b[0m\u001b[0;34m:\u001b[0m\u001b[0;34m\u001b[0m\u001b[0;34m\u001b[0m\u001b[0m\n",
      "\u001b[0;32m/usr/local/lib/python3.6/dist-packages/unityagents/rpc_communicator.py\u001b[0m in \u001b[0;36mexchange\u001b[0;34m(self, inputs)\u001b[0m\n\u001b[1;32m     76\u001b[0m         \u001b[0mmessage\u001b[0m\u001b[0;34m.\u001b[0m\u001b[0munity_input\u001b[0m\u001b[0;34m.\u001b[0m\u001b[0mCopyFrom\u001b[0m\u001b[0;34m(\u001b[0m\u001b[0minputs\u001b[0m\u001b[0;34m)\u001b[0m\u001b[0;34m\u001b[0m\u001b[0;34m\u001b[0m\u001b[0m\n\u001b[1;32m     77\u001b[0m         \u001b[0mself\u001b[0m\u001b[0;34m.\u001b[0m\u001b[0munity_to_external\u001b[0m\u001b[0;34m.\u001b[0m\u001b[0mparent_conn\u001b[0m\u001b[0;34m.\u001b[0m\u001b[0msend\u001b[0m\u001b[0;34m(\u001b[0m\u001b[0mmessage\u001b[0m\u001b[0;34m)\u001b[0m\u001b[0;34m\u001b[0m\u001b[0;34m\u001b[0m\u001b[0m\n\u001b[0;32m---> 78\u001b[0;31m         \u001b[0moutput\u001b[0m \u001b[0;34m=\u001b[0m \u001b[0mself\u001b[0m\u001b[0;34m.\u001b[0m\u001b[0munity_to_external\u001b[0m\u001b[0;34m.\u001b[0m\u001b[0mparent_conn\u001b[0m\u001b[0;34m.\u001b[0m\u001b[0mrecv\u001b[0m\u001b[0;34m(\u001b[0m\u001b[0;34m)\u001b[0m\u001b[0;34m\u001b[0m\u001b[0;34m\u001b[0m\u001b[0m\n\u001b[0m\u001b[1;32m     79\u001b[0m         \u001b[0;32mif\u001b[0m \u001b[0moutput\u001b[0m\u001b[0;34m.\u001b[0m\u001b[0mheader\u001b[0m\u001b[0;34m.\u001b[0m\u001b[0mstatus\u001b[0m \u001b[0;34m!=\u001b[0m \u001b[0;36m200\u001b[0m\u001b[0;34m:\u001b[0m\u001b[0;34m\u001b[0m\u001b[0;34m\u001b[0m\u001b[0m\n\u001b[1;32m     80\u001b[0m             \u001b[0;32mreturn\u001b[0m \u001b[0;32mNone\u001b[0m\u001b[0;34m\u001b[0m\u001b[0;34m\u001b[0m\u001b[0m\n",
      "\u001b[0;32m/usr/lib/python3.6/multiprocessing/connection.py\u001b[0m in \u001b[0;36mrecv\u001b[0;34m(self)\u001b[0m\n\u001b[1;32m    248\u001b[0m         \u001b[0mself\u001b[0m\u001b[0;34m.\u001b[0m\u001b[0m_check_closed\u001b[0m\u001b[0;34m(\u001b[0m\u001b[0;34m)\u001b[0m\u001b[0;34m\u001b[0m\u001b[0;34m\u001b[0m\u001b[0m\n\u001b[1;32m    249\u001b[0m         \u001b[0mself\u001b[0m\u001b[0;34m.\u001b[0m\u001b[0m_check_readable\u001b[0m\u001b[0;34m(\u001b[0m\u001b[0;34m)\u001b[0m\u001b[0;34m\u001b[0m\u001b[0;34m\u001b[0m\u001b[0m\n\u001b[0;32m--> 250\u001b[0;31m         \u001b[0mbuf\u001b[0m \u001b[0;34m=\u001b[0m \u001b[0mself\u001b[0m\u001b[0;34m.\u001b[0m\u001b[0m_recv_bytes\u001b[0m\u001b[0;34m(\u001b[0m\u001b[0;34m)\u001b[0m\u001b[0;34m\u001b[0m\u001b[0;34m\u001b[0m\u001b[0m\n\u001b[0m\u001b[1;32m    251\u001b[0m         \u001b[0;32mreturn\u001b[0m \u001b[0m_ForkingPickler\u001b[0m\u001b[0;34m.\u001b[0m\u001b[0mloads\u001b[0m\u001b[0;34m(\u001b[0m\u001b[0mbuf\u001b[0m\u001b[0;34m.\u001b[0m\u001b[0mgetbuffer\u001b[0m\u001b[0;34m(\u001b[0m\u001b[0;34m)\u001b[0m\u001b[0;34m)\u001b[0m\u001b[0;34m\u001b[0m\u001b[0;34m\u001b[0m\u001b[0m\n\u001b[1;32m    252\u001b[0m \u001b[0;34m\u001b[0m\u001b[0m\n",
      "\u001b[0;32m/usr/lib/python3.6/multiprocessing/connection.py\u001b[0m in \u001b[0;36m_recv_bytes\u001b[0;34m(self, maxsize)\u001b[0m\n\u001b[1;32m    405\u001b[0m \u001b[0;34m\u001b[0m\u001b[0m\n\u001b[1;32m    406\u001b[0m     \u001b[0;32mdef\u001b[0m \u001b[0m_recv_bytes\u001b[0m\u001b[0;34m(\u001b[0m\u001b[0mself\u001b[0m\u001b[0;34m,\u001b[0m \u001b[0mmaxsize\u001b[0m\u001b[0;34m=\u001b[0m\u001b[0;32mNone\u001b[0m\u001b[0;34m)\u001b[0m\u001b[0;34m:\u001b[0m\u001b[0;34m\u001b[0m\u001b[0;34m\u001b[0m\u001b[0m\n\u001b[0;32m--> 407\u001b[0;31m         \u001b[0mbuf\u001b[0m \u001b[0;34m=\u001b[0m \u001b[0mself\u001b[0m\u001b[0;34m.\u001b[0m\u001b[0m_recv\u001b[0m\u001b[0;34m(\u001b[0m\u001b[0;36m4\u001b[0m\u001b[0;34m)\u001b[0m\u001b[0;34m\u001b[0m\u001b[0;34m\u001b[0m\u001b[0m\n\u001b[0m\u001b[1;32m    408\u001b[0m         \u001b[0msize\u001b[0m\u001b[0;34m,\u001b[0m \u001b[0;34m=\u001b[0m \u001b[0mstruct\u001b[0m\u001b[0;34m.\u001b[0m\u001b[0munpack\u001b[0m\u001b[0;34m(\u001b[0m\u001b[0;34m\"!i\"\u001b[0m\u001b[0;34m,\u001b[0m \u001b[0mbuf\u001b[0m\u001b[0;34m.\u001b[0m\u001b[0mgetvalue\u001b[0m\u001b[0;34m(\u001b[0m\u001b[0;34m)\u001b[0m\u001b[0;34m)\u001b[0m\u001b[0;34m\u001b[0m\u001b[0;34m\u001b[0m\u001b[0m\n\u001b[1;32m    409\u001b[0m         \u001b[0;32mif\u001b[0m \u001b[0mmaxsize\u001b[0m \u001b[0;32mis\u001b[0m \u001b[0;32mnot\u001b[0m \u001b[0;32mNone\u001b[0m \u001b[0;32mand\u001b[0m \u001b[0msize\u001b[0m \u001b[0;34m>\u001b[0m \u001b[0mmaxsize\u001b[0m\u001b[0;34m:\u001b[0m\u001b[0;34m\u001b[0m\u001b[0;34m\u001b[0m\u001b[0m\n",
      "\u001b[0;32m/usr/lib/python3.6/multiprocessing/connection.py\u001b[0m in \u001b[0;36m_recv\u001b[0;34m(self, size, read)\u001b[0m\n\u001b[1;32m    377\u001b[0m         \u001b[0mremaining\u001b[0m \u001b[0;34m=\u001b[0m \u001b[0msize\u001b[0m\u001b[0;34m\u001b[0m\u001b[0;34m\u001b[0m\u001b[0m\n\u001b[1;32m    378\u001b[0m         \u001b[0;32mwhile\u001b[0m \u001b[0mremaining\u001b[0m \u001b[0;34m>\u001b[0m \u001b[0;36m0\u001b[0m\u001b[0;34m:\u001b[0m\u001b[0;34m\u001b[0m\u001b[0;34m\u001b[0m\u001b[0m\n\u001b[0;32m--> 379\u001b[0;31m             \u001b[0mchunk\u001b[0m \u001b[0;34m=\u001b[0m \u001b[0mread\u001b[0m\u001b[0;34m(\u001b[0m\u001b[0mhandle\u001b[0m\u001b[0;34m,\u001b[0m \u001b[0mremaining\u001b[0m\u001b[0;34m)\u001b[0m\u001b[0;34m\u001b[0m\u001b[0;34m\u001b[0m\u001b[0m\n\u001b[0m\u001b[1;32m    380\u001b[0m             \u001b[0mn\u001b[0m \u001b[0;34m=\u001b[0m \u001b[0mlen\u001b[0m\u001b[0;34m(\u001b[0m\u001b[0mchunk\u001b[0m\u001b[0;34m)\u001b[0m\u001b[0;34m\u001b[0m\u001b[0;34m\u001b[0m\u001b[0m\n\u001b[1;32m    381\u001b[0m             \u001b[0;32mif\u001b[0m \u001b[0mn\u001b[0m \u001b[0;34m==\u001b[0m \u001b[0;36m0\u001b[0m\u001b[0;34m:\u001b[0m\u001b[0;34m\u001b[0m\u001b[0;34m\u001b[0m\u001b[0m\n",
      "\u001b[0;31mKeyboardInterrupt\u001b[0m: "
     ]
    }
   ],
   "source": [
    "from collections import deque\n",
    "import time\n",
    "import matplotlib.pyplot as plt\n",
    "%matplotlib inline\n",
    "avg_reward = deque(maxlen=100)\n",
    "max_step = 100\n",
    "epoches = 200\n",
    "scores_all=[]\n",
    "for epoch in range(epoches):\n",
    "    env_info = env.reset(train_mode=True)[brain_name]\n",
    "    states = env_info.vector_observations\n",
    "    scores = np.zeros(num_agents)\n",
    "    for agent_no in range(num_agents//5):\n",
    "        agent[agent_no].reset()\n",
    "    \n",
    "    start_time = time.time()\n",
    "    for i in range(1000):\n",
    "        actions = []\n",
    "        for agent_no in range(num_agents//5):\n",
    "            actions.extend(agent[agent_no].policy(states[agent_no*5:agent_no*5+5,:]))# select an action (for each agent)\n",
    "        actions = np.array(actions)\n",
    "        env_info = env.step(actions)[brain_name]           # send all actions to tne environment\n",
    "        next_states = env_info.vector_observations         # get next state (for each agent)\n",
    "        rewards = env_info.rewards                         # get reward (for each agent)\n",
    "        dones = env_info.local_done                        # see if episode finished\n",
    "        for j in range(num_agents):\n",
    "            replaybuffer.Add(states[j,:], actions[j], rewards[j], next_states[j,:], dones[j])\n",
    "        if(i%20==0 and len(replaybuffer)>1024):\n",
    "            for agent_no in range(num_agents//5):\n",
    "                #print(agent_no)\n",
    "                for _ in range(10):\n",
    "                    agent[agent_no].learn()\n",
    "                #agent[agent_no].update_lr()\n",
    "        \n",
    "        scores += env_info.rewards                         # update the score (for each agent)\n",
    "        states = next_states                               # roll over states to next time step\n",
    "        if np.any(dones):                                  # exit loop if episode finished\n",
    "            break\n",
    "    avg_reward.append(np.mean(scores))\n",
    "    scores_all.append(np.mean(scores))\n",
    "    duration = time.time() - start_time\n",
    "    total_average_score=np.mean(avg_reward)\n",
    "    mean_score=np.mean(scores)\n",
    "    min_score=np.min(scores)\n",
    "    max_score=np.max(scores)\n",
    "    print('\\rEpisode {}\\tTotal Average Score: {:.2f}\\tMean: {:.2f}\\tMin: {:.2f}\\tMax: {:.2f}\\tDuration: {:.2f}'\n",
    "              .format(epoch, total_average_score, mean_score, min_score, max_score, duration))\n",
    "    if total_average_score >= 30.0 and epoch >= 100:\n",
    "        print('Problem Solved after {} epsisodes!! Total Average score: {:.2f}'.format(epoch, total_average_score))\n",
    "        torch.save(agent[0].actor_local.state_dict(), 'checkpoint_actor.pth')\n",
    "        torch.save(agent[0].critic_local.state_dict(), 'checkpoint_critic.pth')\n",
    "        break\n",
    "    \n",
    "plt.plot(scores_all)\n",
    "plt.show()\n",
    "print('Total score (averaged over agents) this episode: {}'.format(np.mean(scores)))"
   ]
  },
  {
   "cell_type": "code",
   "execution_count": null,
   "metadata": {},
   "outputs": [],
   "source": [
    "trained_agent = DDPGAgent(1024,states.shape[1],action_size,replaybuffer)\n",
    "trained_agent.actor_local.load_state_dict(torch.load('checkpoint_actor.pth'))\n",
    "trained_agent.critic_local.load_state_dict(torch.load('checkpoint_critic.pth'))"
   ]
  },
  {
   "cell_type": "code",
   "execution_count": null,
   "metadata": {},
   "outputs": [],
   "source": [
    "env_info = env.reset(train_mode=False)[brain_name]     # reset the environment    \n",
    "states = env_info.vector_observations                  # get the current state (for each agent)\n",
    "scores = np.zeros(num_agents)                          # initialize the score (for each agent)\n",
    "trained_agent.actor_local.eval()\n",
    "while True:\n",
    "    tstates = torch.from_numpy(states).to(torch.float32)\n",
    "    actions = trained_agent.actor_local(tstates).detach().numpy() # select an action (for each agent)\n",
    "    actions = np.clip(actions, -1, 1)                  # all actions between -1 and 1\n",
    "    env_info = env.step(actions)[brain_name]           # send all actions to tne environment\n",
    "    next_states = env_info.vector_observations         # get next state (for each agent)\n",
    "    rewards = env_info.rewards                         # get reward (for each agent)\n",
    "    dones = env_info.local_done                        # see if episode finished\n",
    "    scores += env_info.rewards                         # update the score (for each agent)\n",
    "    states = next_states                               # roll over states to next time step\n",
    "    if np.any(dones):                                  # exit loop if episode finished\n",
    "        break\n",
    "print('Total score (averaged over agents) this episode: {}'.format(np.mean(scores)))"
   ]
  },
  {
   "cell_type": "code",
   "execution_count": null,
   "metadata": {},
   "outputs": [],
   "source": [
    "env.close()"
   ]
  },
  {
   "cell_type": "code",
   "execution_count": null,
   "metadata": {},
   "outputs": [],
   "source": []
  }
 ],
 "metadata": {
  "kernelspec": {
   "display_name": "Python 3",
   "language": "python",
   "name": "python3"
  },
  "language_info": {
   "codemirror_mode": {
    "name": "ipython",
    "version": 3
   },
   "file_extension": ".py",
   "mimetype": "text/x-python",
   "name": "python",
   "nbconvert_exporter": "python",
   "pygments_lexer": "ipython3",
   "version": "3.6.8"
  }
 },
 "nbformat": 4,
 "nbformat_minor": 2
}

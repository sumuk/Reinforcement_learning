{
 "cells": [
  {
   "cell_type": "code",
   "execution_count": 1,
   "metadata": {},
   "outputs": [],
   "source": [
    "from unityagents import UnityEnvironment\n",
    "import numpy as np"
   ]
  },
  {
   "cell_type": "code",
   "execution_count": 2,
   "metadata": {},
   "outputs": [
    {
     "name": "stderr",
     "output_type": "stream",
     "text": [
      "INFO:unityagents:\n",
      "'Academy' started successfully!\n",
      "Unity Academy name: Academy\n",
      "        Number of Brains: 1\n",
      "        Number of External Brains : 1\n",
      "        Lesson number : 0\n",
      "        Reset Parameters :\n",
      "\t\t\n",
      "Unity brain name: BananaBrain\n",
      "        Number of Visual Observations (per agent): 0\n",
      "        Vector Observation space type: continuous\n",
      "        Vector Observation space size (per agent): 37\n",
      "        Number of stacked Vector Observation: 1\n",
      "        Vector Action space type: discrete\n",
      "        Vector Action space size (per agent): 4\n",
      "        Vector Action descriptions: , , , \n"
     ]
    }
   ],
   "source": [
    "env = UnityEnvironment(file_name=\"/home/sumuk/rl/deep-reinforcement-learning/p1_navigation/Banana_Linux/Banana.x86_64\")"
   ]
  },
  {
   "cell_type": "code",
   "execution_count": 3,
   "metadata": {},
   "outputs": [
    {
     "name": "stdout",
     "output_type": "stream",
     "text": [
      "Unity brain name: BananaBrain\n",
      "        Number of Visual Observations (per agent): 0\n",
      "        Vector Observation space type: continuous\n",
      "        Vector Observation space size (per agent): 37\n",
      "        Number of stacked Vector Observation: 1\n",
      "        Vector Action space type: discrete\n",
      "        Vector Action space size (per agent): 4\n",
      "        Vector Action descriptions: , , , \n"
     ]
    }
   ],
   "source": [
    "brain_name = env.brain_names[0]\n",
    "brain = env.brains[brain_name]\n",
    "print(brain)"
   ]
  },
  {
   "cell_type": "code",
   "execution_count": 4,
   "metadata": {},
   "outputs": [
    {
     "name": "stdout",
     "output_type": "stream",
     "text": [
      "Number of agents: 1\n",
      "Number of actions: 4\n",
      "States look like: [1.         0.         0.         0.         0.84408134 0.\n",
      " 0.         1.         0.         0.0748472  0.         1.\n",
      " 0.         0.         0.25755    1.         0.         0.\n",
      " 0.         0.74177343 0.         1.         0.         0.\n",
      " 0.25854847 0.         0.         1.         0.         0.09355672\n",
      " 0.         1.         0.         0.         0.31969345 0.\n",
      " 0.        ]\n",
      "States have length: 37\n"
     ]
    }
   ],
   "source": [
    "# reset the environment\n",
    "env_info = env.reset(train_mode=True)[brain_name]\n",
    "\n",
    "# number of agents in the environment\n",
    "print('Number of agents:', len(env_info.agents))\n",
    "\n",
    "# number of actions\n",
    "action_size = brain.vector_action_space_size\n",
    "print('Number of actions:', action_size)\n",
    "\n",
    "# examine the state space \n",
    "state = env_info.vector_observations[0]\n",
    "print('States look like:', state)\n",
    "state_size = len(state)\n",
    "print('States have length:', state_size)"
   ]
  },
  {
   "cell_type": "code",
   "execution_count": 5,
   "metadata": {},
   "outputs": [
    {
     "name": "stdout",
     "output_type": "stream",
     "text": [
      "Score: 0.0\n"
     ]
    }
   ],
   "source": [
    "env_info = env.reset(train_mode=False)[brain_name] # reset the environment\n",
    "state = env_info.vector_observations[0]            # get the current state\n",
    "score = 0                                          # initialize the score\n",
    "while True:\n",
    "    action = np.random.randint(action_size)        # select an action\n",
    "    env_info = env.step(action)[brain_name]        # send the action to the environment\n",
    "    next_state = env_info.vector_observations[0]   # get the next state\n",
    "    reward = env_info.rewards[0]                   # get the reward\n",
    "    done = env_info.local_done[0]                  # see if episode has finished\n",
    "    score += reward                                # update the score\n",
    "    state = next_state                             # roll over the state to next time step\n",
    "    if done:                                       # exit loop if episode finished\n",
    "        break\n",
    "    \n",
    "print(\"Score: {}\".format(score))"
   ]
  },
  {
   "cell_type": "code",
   "execution_count": 6,
   "metadata": {},
   "outputs": [],
   "source": [
    "import numpy as np\n",
    "from collections import deque\n",
    "import matplotlib.pyplot as plt\n",
    "%matplotlib inline\n",
    "import torch \n",
    "import torch.nn as nn\n",
    "import torch.nn.functional as f\n",
    "import torch.optim as optim\n",
    "from torch.distributions import Categorical\n",
    "def hidden_init(layer):\n",
    "    fan_in = layer.weight.data.size()[0]\n",
    "    lim = 1. / np.sqrt(fan_in)\n",
    "    return (-lim, lim)\n",
    "class Actor(nn.Module):\n",
    "    def __init__(self,state_size,action_size):\n",
    "        super(Actor,self).__init__()\n",
    "        self.state_size=state_size\n",
    "        self.action_size=action_size\n",
    "        self.fc1 = nn.Linear(self.state_size,128)\n",
    "        self.fc3 = nn.Linear(128,64)\n",
    "        self.fc2 = nn.Linear(64,self.action_size)\n",
    "        self.entropy=[]\n",
    "#         self.fc3.weight.data.uniform_(-1e-2,1e-2)\n",
    "#         self.fc2.weight.data.uniform_(-1e-2,1e-2)\n",
    "#         self.fc1.weight.data.uniform_(-1e-2,1e-2)\n",
    "        self.fc1.weight.data.uniform_(*hidden_init(self.fc1))\n",
    "        self.fc3.weight.data.uniform_(*hidden_init(self.fc2))\n",
    "        self.fc2.weight.data.uniform_(-1e-3,1e-3)\n",
    "    def forward(self,state):\n",
    "        y = f.relu(self.fc1(state))\n",
    "        y = f.relu(self.fc3(y))\n",
    "        y = f.softmax(self.fc2(y),dim=-1)\n",
    "        return y\n",
    "    def act(self,state):\n",
    "        state = torch.from_numpy(state).float().unsqueeze(0).to(device)\n",
    "        probs = self.forward(state).cpu()\n",
    "        m = Categorical(probs)\n",
    "        action = m.sample()\n",
    "        self.entropy.append(m.entropy().detach().numpy())\n",
    "        return action.item(), m.log_prob(action)\n",
    "\n",
    "class Critic(nn.Module):\n",
    "    def __init__(self,state_size):\n",
    "        super(Critic,self).__init__()\n",
    "        self.state_size = state_size\n",
    "        self.fc1 = nn.Linear(self.state_size,128)\n",
    "        self.fc3 = nn.Linear(128,64)\n",
    "        self.fc2 = nn.Linear(64,1)\n",
    "        self.fc1.weight.data.uniform_(*hidden_init(self.fc1))\n",
    "        self.fc3.weight.data.uniform_(*hidden_init(self.fc2))\n",
    "        self.fc2.weight.data.uniform_(-3e-3,3e-3)\n",
    "    def forward(self,state):\n",
    "        state = torch.from_numpy(state).float().to(device)\n",
    "        y = f.relu(self.fc1(state))\n",
    "        y = f.relu(self.fc3(y))\n",
    "        y = self.fc2(y)\n",
    "        return y.cpu()"
   ]
  },
  {
   "cell_type": "code",
   "execution_count": 7,
   "metadata": {},
   "outputs": [
    {
     "name": "stdout",
     "output_type": "stream",
     "text": [
      "Episode 100\tAverage Score: 0.64\n",
      "Episode 200\tAverage Score: 9.64\n",
      "Episode 300\tAverage Score: 12.19\n",
      "Episode 400\tAverage Score: 11.78\n",
      "Episode 500\tAverage Score: 11.89\n",
      "Episode 600\tAverage Score: 12.63\n",
      "Episode 700\tAverage Score: 12.62\n",
      "Episode 800\tAverage Score: 12.78\n",
      "Environment solved in 712 episodes!\tAverage Score: 13.01\n"
     ]
    }
   ],
   "source": [
    "import torch.optim as optim\n",
    "def exp_lr_scheduler(optimizer,decay):\n",
    "    for param_group in optimizer.param_groups:\n",
    "        lr = param_group['lr']\n",
    "        \n",
    "    lr = lr * decay\n",
    "    for param_group in optimizer.param_groups:\n",
    "        param_group['lr'] = lr\n",
    "    return optimizer,lr\n",
    "device = torch.device(\"cuda:0\" if torch.cuda.is_available() else \"cpu\")\n",
    "actor = Actor(37,4).to(device)\n",
    "critic = Critic(37).to(device)\n",
    "optim_actor = optim.Adam(actor.parameters(), lr=1e-3)\n",
    "optim_critic = optim.Adam(critic.parameters(),lr=1e-3)\n",
    "\n",
    "def reinforce(n_episodes=1000, max_t=1000, gamma=0.95, print_every=100):\n",
    "    scores_deque = deque(maxlen=100)\n",
    "    scores = []\n",
    "    for i_episode in range(1, n_episodes+1):\n",
    "        saved_log_probs = []\n",
    "        rewards = []\n",
    "        states=[]\n",
    "        next_states=[]\n",
    "        score_list=[]\n",
    "        while(True):\n",
    "#         for _ in range(5):\n",
    "            state_list=[]\n",
    "            log_prob_list=[]\n",
    "            reward_list=[]\n",
    "            env_info = env.reset(train_mode=True)[brain_name]\n",
    "            state =  env_info.vector_observations[0] \n",
    "            state_list.append(state)\n",
    "            for t in range(max_t):\n",
    "                action, log_prob = actor.act(state)\n",
    "                log_prob_list.append(log_prob)\n",
    "                env_info = env.step(action)[brain_name] \n",
    "                state, reward, done = env_info.vector_observations[0],env_info.rewards[0],env_info.local_done[0]\n",
    "                state_list.append(state)\n",
    "                reward_list.append(reward)\n",
    "                if done:\n",
    "                    break\n",
    "            saved_log_probs.extend(log_prob_list)\n",
    "            states.extend(state_list[:-1])\n",
    "            next_states.extend(state_list[1:])\n",
    "            r=[0.0]\n",
    "            for i in reversed(reward_list):\n",
    "                r.append(i+gamma*r[-1])\n",
    "            r=r[:0:-1]\n",
    "            #r = (r - np.mean(r))/(1e-5+np.std(r))\n",
    "            rewards.extend(r)\n",
    "            score_list.append(np.sum(reward_list))\n",
    "            if(len(states)>1024):\n",
    "                break\n",
    "        scores_deque.append(np.mean(score_list))\n",
    "        scores.append(np.mean(score_list))\n",
    "       \n",
    "        if(i_episode%1==0):\n",
    "            for _ in range(5): \n",
    "                vstate = critic(np.array(states)).squeeze(-1)\n",
    "                vstatep = critic(np.array(next_states)).squeeze(-1)\n",
    "                vlabel= torch.tensor(rewards) + vstatep\n",
    "                critic_loss = f.mse_loss(vstate,vlabel)\n",
    "                optim_critic.zero_grad()\n",
    "                critic_loss.backward()\n",
    "                torch.nn.utils.clip_grad_norm_(critic.parameters(), 1)\n",
    "                optim_critic.step()\n",
    "        baseline = critic(np.array(states)).detach().squeeze(-1).numpy()\n",
    "        baseline = (baseline - np.mean(baseline))/(np.std(baseline)+1e-5)*np.std(rewards)+np.mean(rewards)\n",
    "        adv = rewards - baseline\n",
    "        adv = (adv - np.mean(adv))/(1e-5+np.std(adv)) \n",
    "        policy_loss = []\n",
    "        for log_prob,A in zip(saved_log_probs,adv):\n",
    "            policy_loss.append(-log_prob * (A))\n",
    "        policy_loss = torch.cat(policy_loss).sum()/len(score_list)\n",
    "        optim_actor.zero_grad()\n",
    "        policy_loss.backward()\n",
    "        torch.nn.utils.clip_grad_norm_(actor.parameters(), 5)\n",
    "        \n",
    "        optim_actor.step()\n",
    "\n",
    "           \n",
    "            \n",
    "        if i_episode % print_every == 0:\n",
    "            print('Episode {}\\tAverage Score: {:.2f}'.format(i_episode, np.mean(scores_deque)))\n",
    "        if np.mean(scores_deque)>=13.0:\n",
    "            print('Environment solved in {:d} episodes!\\tAverage Score: {:.2f}'.format(i_episode-100, np.mean(scores_deque)))\n",
    "            break\n",
    "        \n",
    "    return scores\n",
    "        \n",
    "scores=reinforce()"
   ]
  },
  {
   "cell_type": "code",
   "execution_count": null,
   "metadata": {},
   "outputs": [],
   "source": [
    "import time\n",
    "for k in range(1):\n",
    "    scores = []\n",
    "    for i in range(10):\n",
    "        env_info = env.reset(train_mode=False)[brain_name] \n",
    "        state = env_info.vector_observations[0] \n",
    "        score = 0\n",
    "        for j in range(1000):\n",
    "            action, log_prob = actor.act(state)\n",
    "            env_info = env.step(action)[brain_name]        # send the action to the environment\n",
    "            next_state = env_info.vector_observations[0]   # get the next state\n",
    "            reward = env_info.rewards[0]                   # get the reward\n",
    "            done = env_info.local_done[0]\n",
    "            state = next_state\n",
    "            score += reward\n",
    "            #print(\"epoch {0} score {1}\".format(j,score))\n",
    "            time.sleep(.1)\n",
    "            if done:\n",
    "                break\n",
    "        scores.append(score)\n",
    "    print(np.mean(scores))            \n"
   ]
  },
  {
   "cell_type": "code",
   "execution_count": null,
   "metadata": {},
   "outputs": [],
   "source": []
  }
 ],
 "metadata": {
  "kernelspec": {
   "display_name": "Python 3",
   "language": "python",
   "name": "python3"
  },
  "language_info": {
   "codemirror_mode": {
    "name": "ipython",
    "version": 3
   },
   "file_extension": ".py",
   "mimetype": "text/x-python",
   "name": "python",
   "nbconvert_exporter": "python",
   "pygments_lexer": "ipython3",
   "version": "3.6.8"
  }
 },
 "nbformat": 4,
 "nbformat_minor": 2
}

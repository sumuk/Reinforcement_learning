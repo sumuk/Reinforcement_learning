{
 "cells": [
  {
   "cell_type": "markdown",
   "metadata": {},
   "source": [
    "In this notebook, we will learn  how to sol the Unity ML-Agents environment for the second project of the Deep Reinforcement Learning Nanodegree program."
   ]
  },
  {
   "cell_type": "code",
   "execution_count": 1,
   "metadata": {},
   "outputs": [
    {
     "name": "stderr",
     "output_type": "stream",
     "text": [
      "INFO:unityagents:\n",
      "'Academy' started successfully!\n",
      "Unity Academy name: Academy\n",
      "        Number of Brains: 1\n",
      "        Number of External Brains : 1\n",
      "        Lesson number : 0\n",
      "        Reset Parameters :\n",
      "\t\tgoal_speed -> 1.0\n",
      "\t\tgoal_size -> 5.0\n",
      "Unity brain name: ReacherBrain\n",
      "        Number of Visual Observations (per agent): 0\n",
      "        Vector Observation space type: continuous\n",
      "        Vector Observation space size (per agent): 33\n",
      "        Number of stacked Vector Observation: 1\n",
      "        Vector Action space type: continuous\n",
      "        Vector Action space size (per agent): 4\n",
      "        Vector Action descriptions: , , , \n"
     ]
    }
   ],
   "source": [
    "from unityagents import UnityEnvironment\n",
    "from sumuk_ddpg_agent import *\n",
    "import numpy as np\n",
    "env = UnityEnvironment(file_name='Reacher_Linux_20/Reacher.x86_64')\n",
    "# get the default brain\n",
    "brain_name = env.brain_names[0]\n",
    "brain = env.brains[brain_name]\n",
    "        "
   ]
  },
  {
   "cell_type": "code",
   "execution_count": 2,
   "metadata": {},
   "outputs": [
    {
     "name": "stdout",
     "output_type": "stream",
     "text": [
      "20\n",
      "4\n"
     ]
    }
   ],
   "source": [
    "env_info = env.reset(train_mode=True)[brain_name]     # reset the environment    \n",
    "num_agents = len(env_info.agents)\n",
    "print(num_agents)\n",
    "states = env_info.vector_observations\n",
    "action_size = brain.vector_action_space_size\n",
    "# get the current state (for each agent)\n",
    "scores = np.zeros(num_agents)\n",
    "replaybuffer=ReplayBuffer(int(1e6))\n",
    "agent=[]\n",
    "for _ in range(num_agents//5):\n",
    "    a = DDPGAgent(1024,states.shape[1],action_size,replaybuffer)\n",
    "    agent.append(a)\n",
    "print(len(agent))"
   ]
  },
  {
   "cell_type": "code",
   "execution_count": 3,
   "metadata": {},
   "outputs": [
    {
     "name": "stderr",
     "output_type": "stream",
     "text": [
      "/usr/local/lib/python3.6/dist-packages/torch/nn/functional.py:1320: UserWarning: nn.functional.tanh is deprecated. Use torch.tanh instead.\n",
      "  warnings.warn(\"nn.functional.tanh is deprecated. Use torch.tanh instead.\")\n",
      "/home/sumuk/rl/deep-reinforcement-learning/p2_continuous-control/Continuous_control/sumuk_ddpg_agent.py:97: UserWarning: torch.nn.utils.clip_grad_norm is now deprecated in favor of torch.nn.utils.clip_grad_norm_.\n",
      "  torch.nn.utils.clip_grad_norm(self.critic_local.parameters(), 1)\n"
     ]
    },
    {
     "name": "stdout",
     "output_type": "stream",
     "text": [
      "Episode 0\tTotal Average Score: 0.46\tMean: 0.46\tMin: 0.00\tMax: 1.46\tDuration: 161.24\n",
      "Episode 1\tTotal Average Score: 0.40\tMean: 0.34\tMin: 0.00\tMax: 1.13\tDuration: 175.24\n",
      "Episode 2\tTotal Average Score: 0.42\tMean: 0.47\tMin: 0.03\tMax: 1.14\tDuration: 174.51\n",
      "Episode 3\tTotal Average Score: 0.55\tMean: 0.91\tMin: 0.09\tMax: 2.05\tDuration: 178.40\n",
      "Episode 4\tTotal Average Score: 0.64\tMean: 1.02\tMin: 0.53\tMax: 1.94\tDuration: 181.33\n",
      "Episode 5\tTotal Average Score: 0.70\tMean: 1.01\tMin: 0.19\tMax: 1.86\tDuration: 181.26\n",
      "Episode 6\tTotal Average Score: 0.82\tMean: 1.52\tMin: 0.40\tMax: 3.43\tDuration: 185.11\n",
      "Episode 7\tTotal Average Score: 0.91\tMean: 1.54\tMin: 0.42\tMax: 2.90\tDuration: 185.79\n",
      "Episode 8\tTotal Average Score: 1.01\tMean: 1.80\tMin: 1.03\tMax: 2.92\tDuration: 189.24\n",
      "Episode 9\tTotal Average Score: 1.09\tMean: 1.79\tMin: 0.16\tMax: 3.88\tDuration: 194.18\n",
      "Episode 10\tTotal Average Score: 1.16\tMean: 1.93\tMin: 0.39\tMax: 3.58\tDuration: 197.57\n",
      "Episode 11\tTotal Average Score: 1.26\tMean: 2.33\tMin: 0.65\tMax: 4.57\tDuration: 199.63\n",
      "Episode 12\tTotal Average Score: 1.43\tMean: 3.42\tMin: 1.18\tMax: 7.67\tDuration: 202.24\n",
      "Episode 13\tTotal Average Score: 1.58\tMean: 3.59\tMin: 1.15\tMax: 6.99\tDuration: 204.12\n",
      "Episode 14\tTotal Average Score: 1.74\tMean: 3.98\tMin: 1.45\tMax: 7.16\tDuration: 209.60\n",
      "Episode 15\tTotal Average Score: 1.94\tMean: 4.87\tMin: 1.95\tMax: 10.31\tDuration: 212.59\n",
      "Episode 16\tTotal Average Score: 2.21\tMean: 6.64\tMin: 2.06\tMax: 15.14\tDuration: 215.30\n",
      "Episode 17\tTotal Average Score: 2.49\tMean: 7.14\tMin: 1.32\tMax: 13.06\tDuration: 221.70\n",
      "Episode 18\tTotal Average Score: 2.90\tMean: 10.31\tMin: 3.70\tMax: 17.08\tDuration: 224.25\n",
      "Episode 19\tTotal Average Score: 3.31\tMean: 11.11\tMin: 4.68\tMax: 19.74\tDuration: 228.39\n",
      "Episode 20\tTotal Average Score: 3.97\tMean: 17.26\tMin: 7.58\tMax: 25.78\tDuration: 232.39\n",
      "Episode 21\tTotal Average Score: 4.62\tMean: 18.18\tMin: 5.23\tMax: 26.42\tDuration: 236.50\n",
      "Episode 22\tTotal Average Score: 5.52\tMean: 25.43\tMin: 13.77\tMax: 34.08\tDuration: 238.79\n",
      "Episode 23\tTotal Average Score: 6.45\tMean: 27.65\tMin: 17.28\tMax: 35.41\tDuration: 243.48\n",
      "Episode 24\tTotal Average Score: 7.43\tMean: 30.97\tMin: 20.42\tMax: 38.77\tDuration: 247.41\n",
      "Episode 25\tTotal Average Score: 8.39\tMean: 32.45\tMin: 18.80\tMax: 38.25\tDuration: 249.84\n",
      "Episode 26\tTotal Average Score: 9.40\tMean: 35.77\tMin: 25.47\tMax: 39.58\tDuration: 253.90\n",
      "Episode 27\tTotal Average Score: 10.36\tMean: 36.05\tMin: 27.98\tMax: 39.61\tDuration: 257.84\n",
      "Episode 28\tTotal Average Score: 11.27\tMean: 36.88\tMin: 30.10\tMax: 39.66\tDuration: 260.46\n",
      "Episode 29\tTotal Average Score: 12.10\tMean: 36.30\tMin: 30.35\tMax: 39.22\tDuration: 263.17\n",
      "Episode 30\tTotal Average Score: 12.92\tMean: 37.50\tMin: 33.43\tMax: 39.67\tDuration: 267.02\n",
      "Episode 31\tTotal Average Score: 13.68\tMean: 37.20\tMin: 29.62\tMax: 39.53\tDuration: 273.43\n",
      "Episode 32\tTotal Average Score: 14.41\tMean: 37.82\tMin: 35.80\tMax: 39.15\tDuration: 275.05\n",
      "Episode 33\tTotal Average Score: 15.11\tMean: 38.18\tMin: 34.18\tMax: 39.63\tDuration: 277.49\n",
      "Episode 34\tTotal Average Score: 15.76\tMean: 37.70\tMin: 31.02\tMax: 39.25\tDuration: 280.51\n",
      "Episode 35\tTotal Average Score: 16.39\tMean: 38.42\tMin: 35.16\tMax: 39.63\tDuration: 284.19\n",
      "Episode 36\tTotal Average Score: 16.99\tMean: 38.82\tMin: 37.05\tMax: 39.65\tDuration: 286.92\n",
      "Episode 37\tTotal Average Score: 17.56\tMean: 38.66\tMin: 36.41\tMax: 39.64\tDuration: 291.44\n",
      "Episode 38\tTotal Average Score: 18.10\tMean: 38.33\tMin: 36.02\tMax: 39.51\tDuration: 292.26\n",
      "Episode 39\tTotal Average Score: 18.60\tMean: 38.21\tMin: 36.51\tMax: 39.49\tDuration: 296.84\n",
      "Episode 40\tTotal Average Score: 19.08\tMean: 38.27\tMin: 34.81\tMax: 39.43\tDuration: 302.07\n",
      "Episode 41\tTotal Average Score: 19.55\tMean: 38.76\tMin: 35.79\tMax: 39.60\tDuration: 303.51\n",
      "Episode 42\tTotal Average Score: 19.98\tMean: 38.28\tMin: 36.59\tMax: 39.54\tDuration: 305.26\n",
      "Episode 43\tTotal Average Score: 20.41\tMean: 38.68\tMin: 36.23\tMax: 39.62\tDuration: 313.30\n",
      "Episode 44\tTotal Average Score: 20.82\tMean: 38.82\tMin: 36.59\tMax: 39.61\tDuration: 314.23\n",
      "Episode 45\tTotal Average Score: 21.19\tMean: 38.09\tMin: 35.51\tMax: 39.15\tDuration: 316.34\n",
      "Episode 46\tTotal Average Score: 21.57\tMean: 38.90\tMin: 36.20\tMax: 39.62\tDuration: 318.87\n",
      "Episode 47\tTotal Average Score: 21.93\tMean: 38.70\tMin: 37.12\tMax: 39.56\tDuration: 322.56\n",
      "Episode 48\tTotal Average Score: 22.27\tMean: 38.90\tMin: 37.67\tMax: 39.56\tDuration: 325.32\n",
      "Episode 49\tTotal Average Score: 22.61\tMean: 39.09\tMin: 38.42\tMax: 39.64\tDuration: 328.49\n",
      "Episode 50\tTotal Average Score: 22.93\tMean: 39.03\tMin: 37.82\tMax: 39.62\tDuration: 328.16\n",
      "Episode 51\tTotal Average Score: 23.23\tMean: 38.30\tMin: 34.77\tMax: 39.60\tDuration: 330.67\n",
      "Episode 52\tTotal Average Score: 23.53\tMean: 39.08\tMin: 37.88\tMax: 39.63\tDuration: 333.70\n",
      "Episode 53\tTotal Average Score: 23.81\tMean: 38.81\tMin: 37.12\tMax: 39.53\tDuration: 333.76\n",
      "Episode 54\tTotal Average Score: 24.09\tMean: 39.31\tMin: 38.23\tMax: 39.62\tDuration: 334.76\n",
      "Episode 55\tTotal Average Score: 24.35\tMean: 38.71\tMin: 37.17\tMax: 39.58\tDuration: 330.65\n",
      "Episode 56\tTotal Average Score: 24.60\tMean: 38.65\tMin: 37.42\tMax: 39.52\tDuration: 330.60\n",
      "Episode 57\tTotal Average Score: 24.85\tMean: 38.72\tMin: 36.80\tMax: 39.66\tDuration: 331.59\n",
      "Episode 58\tTotal Average Score: 25.08\tMean: 38.49\tMin: 37.08\tMax: 39.62\tDuration: 332.29\n",
      "Episode 59\tTotal Average Score: 25.31\tMean: 38.77\tMin: 36.87\tMax: 39.57\tDuration: 333.69\n",
      "Episode 60\tTotal Average Score: 25.53\tMean: 39.10\tMin: 37.93\tMax: 39.58\tDuration: 332.03\n",
      "Episode 61\tTotal Average Score: 25.75\tMean: 38.99\tMin: 38.38\tMax: 39.61\tDuration: 332.84\n",
      "Episode 62\tTotal Average Score: 25.95\tMean: 38.71\tMin: 37.79\tMax: 39.54\tDuration: 331.65\n",
      "Episode 63\tTotal Average Score: 26.15\tMean: 38.72\tMin: 36.64\tMax: 39.65\tDuration: 331.21\n",
      "Episode 64\tTotal Average Score: 26.35\tMean: 38.58\tMin: 36.43\tMax: 39.64\tDuration: 333.67\n",
      "Episode 65\tTotal Average Score: 26.54\tMean: 38.97\tMin: 36.75\tMax: 39.63\tDuration: 332.57\n",
      "Episode 66\tTotal Average Score: 26.72\tMean: 39.07\tMin: 38.18\tMax: 39.60\tDuration: 334.76\n",
      "Episode 67\tTotal Average Score: 26.90\tMean: 38.89\tMin: 37.56\tMax: 39.61\tDuration: 332.49\n",
      "Episode 68\tTotal Average Score: 27.08\tMean: 39.07\tMin: 37.64\tMax: 39.60\tDuration: 332.53\n",
      "Episode 69\tTotal Average Score: 27.25\tMean: 39.01\tMin: 38.30\tMax: 39.57\tDuration: 332.25\n",
      "Episode 70\tTotal Average Score: 27.41\tMean: 38.58\tMin: 37.33\tMax: 39.39\tDuration: 333.99\n",
      "Episode 71\tTotal Average Score: 27.57\tMean: 39.14\tMin: 37.10\tMax: 39.65\tDuration: 330.58\n",
      "Episode 72\tTotal Average Score: 27.72\tMean: 38.64\tMin: 36.51\tMax: 39.59\tDuration: 330.52\n",
      "Episode 73\tTotal Average Score: 27.87\tMean: 38.68\tMin: 36.99\tMax: 39.67\tDuration: 332.13\n",
      "Episode 74\tTotal Average Score: 28.02\tMean: 39.04\tMin: 38.17\tMax: 39.61\tDuration: 331.84\n",
      "Episode 75\tTotal Average Score: 28.16\tMean: 38.92\tMin: 37.26\tMax: 39.55\tDuration: 334.75\n",
      "Episode 76\tTotal Average Score: 28.31\tMean: 39.07\tMin: 38.03\tMax: 39.66\tDuration: 334.01\n",
      "Episode 77\tTotal Average Score: 28.44\tMean: 38.46\tMin: 37.54\tMax: 39.33\tDuration: 333.72\n",
      "Episode 78\tTotal Average Score: 28.57\tMean: 38.69\tMin: 36.39\tMax: 39.57\tDuration: 330.26\n",
      "Episode 79\tTotal Average Score: 28.69\tMean: 38.34\tMin: 36.54\tMax: 39.63\tDuration: 332.41\n",
      "Episode 80\tTotal Average Score: 28.80\tMean: 38.00\tMin: 34.37\tMax: 39.55\tDuration: 334.30\n",
      "Episode 81\tTotal Average Score: 28.93\tMean: 39.00\tMin: 38.02\tMax: 39.58\tDuration: 334.01\n",
      "Episode 82\tTotal Average Score: 29.04\tMean: 38.60\tMin: 37.58\tMax: 39.26\tDuration: 332.24\n",
      "Episode 83\tTotal Average Score: 29.16\tMean: 38.57\tMin: 36.96\tMax: 39.56\tDuration: 332.61\n",
      "Episode 84\tTotal Average Score: 29.27\tMean: 38.36\tMin: 34.68\tMax: 39.58\tDuration: 334.02\n",
      "Episode 85\tTotal Average Score: 29.37\tMean: 38.56\tMin: 35.01\tMax: 39.21\tDuration: 334.18\n",
      "Episode 86\tTotal Average Score: 29.48\tMean: 38.32\tMin: 36.19\tMax: 39.58\tDuration: 333.93\n",
      "Episode 87\tTotal Average Score: 29.58\tMean: 38.87\tMin: 37.87\tMax: 39.64\tDuration: 336.61\n",
      "Episode 88\tTotal Average Score: 29.69\tMean: 38.90\tMin: 38.10\tMax: 39.65\tDuration: 335.89\n",
      "Episode 89\tTotal Average Score: 29.78\tMean: 37.85\tMin: 33.69\tMax: 39.67\tDuration: 337.37\n",
      "Episode 90\tTotal Average Score: 29.87\tMean: 38.22\tMin: 37.01\tMax: 39.36\tDuration: 333.91\n",
      "Episode 91\tTotal Average Score: 29.96\tMean: 38.49\tMin: 35.30\tMax: 39.54\tDuration: 335.91\n",
      "Episode 92\tTotal Average Score: 30.05\tMean: 37.87\tMin: 36.15\tMax: 39.59\tDuration: 334.72\n",
      "Episode 93\tTotal Average Score: 30.13\tMean: 38.04\tMin: 33.57\tMax: 39.25\tDuration: 334.60\n"
     ]
    },
    {
     "name": "stdout",
     "output_type": "stream",
     "text": [
      "Episode 94\tTotal Average Score: 30.22\tMean: 38.06\tMin: 35.84\tMax: 39.55\tDuration: 334.70\n",
      "Episode 95\tTotal Average Score: 30.30\tMean: 38.03\tMin: 33.93\tMax: 39.37\tDuration: 335.74\n",
      "Episode 96\tTotal Average Score: 30.37\tMean: 37.00\tMin: 32.02\tMax: 39.61\tDuration: 335.16\n",
      "Episode 97\tTotal Average Score: 30.44\tMean: 37.67\tMin: 35.09\tMax: 39.24\tDuration: 335.12\n",
      "Episode 98\tTotal Average Score: 30.51\tMean: 37.39\tMin: 34.46\tMax: 39.39\tDuration: 335.57\n",
      "Episode 99\tTotal Average Score: 30.59\tMean: 37.78\tMin: 33.22\tMax: 39.31\tDuration: 336.15\n",
      "Episode 100\tTotal Average Score: 30.97\tMean: 38.45\tMin: 37.47\tMax: 39.58\tDuration: 336.42\n",
      "Problem Solved after 100 epsisodes!! Total Average score: 30.97\n"
     ]
    },
    {
     "data": {
      "image/png": "[encoded data removed]",
      "text/plain": [
       "<Figure size 432x288 with 1 Axes>"
      ]
     },
     "metadata": {
      "needs_background": "light"
     },
     "output_type": "display_data"
    },
    {
     "name": "stdout",
     "output_type": "stream",
     "text": [
      "Total score (averaged over agents) this episode: 38.44549914067611\n"
     ]
    }
   ],
   "source": [
    "from collections import deque\n",
    "import time\n",
    "import matplotlib.pyplot as plt\n",
    "%matplotlib inline\n",
    "avg_reward = deque(maxlen=100)\n",
    "max_step = 100\n",
    "epoches = 200\n",
    "scores_all=[]\n",
    "for epoch in range(epoches):\n",
    "    env_info = env.reset(train_mode=True)[brain_name]\n",
    "    states = env_info.vector_observations\n",
    "    scores = np.zeros(num_agents)\n",
    "    for agent_no in range(num_agents//5):\n",
    "        agent[agent_no].reset()\n",
    "    \n",
    "    start_time = time.time()\n",
    "    for i in range(1000):\n",
    "        actions = []\n",
    "        for agent_no in range(num_agents//5):\n",
    "            actions.extend(agent[agent_no].policy(states[agent_no*5:agent_no*5+5,:]))# select an action (for each agent)\n",
    "        actions = np.array(actions)\n",
    "        env_info = env.step(actions)[brain_name]           # send all actions to tne environment\n",
    "        next_states = env_info.vector_observations         # get next state (for each agent)\n",
    "        rewards = env_info.rewards                         # get reward (for each agent)\n",
    "        dones = env_info.local_done                        # see if episode finished\n",
    "        for j in range(num_agents):\n",
    "            replaybuffer.Add(states[j,:], actions[j], rewards[j], next_states[j,:], dones[j])\n",
    "        if(i%20==0 and len(replaybuffer)>1024):\n",
    "            for agent_no in range(num_agents//5):\n",
    "                #print(agent_no)\n",
    "                for _ in range(10):\n",
    "                    agent[agent_no].learn()\n",
    "                #agent[agent_no].update_lr()\n",
    "        \n",
    "        scores += env_info.rewards                         # update the score (for each agent)\n",
    "        states = next_states                               # roll over states to next time step\n",
    "        if np.any(dones):                                  # exit loop if episode finished\n",
    "            break\n",
    "    avg_reward.append(np.mean(scores))\n",
    "    scores_all.append(np.mean(scores))\n",
    "    duration = time.time() - start_time\n",
    "    total_average_score=np.mean(avg_reward)\n",
    "    mean_score=np.mean(scores)\n",
    "    min_score=np.min(scores)\n",
    "    max_score=np.max(scores)\n",
    "    print('\\rEpisode {}\\tTotal Average Score: {:.2f}\\tMean: {:.2f}\\tMin: {:.2f}\\tMax: {:.2f}\\tDuration: {:.2f}'\n",
    "              .format(epoch, total_average_score, mean_score, min_score, max_score, duration))\n",
    "    if total_average_score >= 30.0 and epoch >= 100:\n",
    "        print('Problem Solved after {} epsisodes!! Total Average score: {:.2f}'.format(epoch, total_average_score))\n",
    "        torch.save(agent[0].actor_local.state_dict(), 'checkpoint_actor.pth')\n",
    "        torch.save(agent[0].critic_local.state_dict(), 'checkpoint_critic.pth')\n",
    "        break\n",
    "    \n",
    "plt.plot(scores_all)\n",
    "plt.show()\n",
    "print('Total score (averaged over agents) this episode: {}'.format(np.mean(scores)))"
   ]
  },
  {
   "cell_type": "code",
   "execution_count": 7,
   "metadata": {},
   "outputs": [],
   "source": [
    "trained_agent = DDPGAgent(1024,states.shape[1],action_size,replaybuffer)\n",
    "trained_agent.actor_local.load_state_dict(torch.load('checkpoint_actor.pth'))\n",
    "trained_agent.critic_local.load_state_dict(torch.load('checkpoint_critic.pth'))"
   ]
  },
  {
   "cell_type": "code",
   "execution_count": 12,
   "metadata": {},
   "outputs": [
    {
     "name": "stdout",
     "output_type": "stream",
     "text": [
      "Total score (averaged over agents) this episode: 38.785999133065346\n"
     ]
    }
   ],
   "source": [
    "env_info = env.reset(train_mode=False)[brain_name]     # reset the environment    \n",
    "states = env_info.vector_observations                  # get the current state (for each agent)\n",
    "scores = np.zeros(num_agents)                          # initialize the score (for each agent)\n",
    "trained_agent.actor_local.eval()\n",
    "while True:\n",
    "    tstates = torch.from_numpy(states).to(torch.float32)\n",
    "    actions = trained_agent.actor_local(tstates).detach().numpy() # select an action (for each agent)\n",
    "    actions = np.clip(actions, -1, 1)                  # all actions between -1 and 1\n",
    "    env_info = env.step(actions)[brain_name]           # send all actions to tne environment\n",
    "    next_states = env_info.vector_observations         # get next state (for each agent)\n",
    "    rewards = env_info.rewards                         # get reward (for each agent)\n",
    "    dones = env_info.local_done                        # see if episode finished\n",
    "    scores += env_info.rewards                         # update the score (for each agent)\n",
    "    states = next_states                               # roll over states to next time step\n",
    "    if np.any(dones):                                  # exit loop if episode finished\n",
    "        break\n",
    "print('Total score (averaged over agents) this episode: {}'.format(np.mean(scores)))"
   ]
  },
  {
   "cell_type": "code",
   "execution_count": 13,
   "metadata": {},
   "outputs": [],
   "source": [
    "env.close()"
   ]
  },
  {
   "cell_type": "code",
   "execution_count": null,
   "metadata": {},
   "outputs": [],
   "source": []
  }
 ],
 "metadata": {
  "kernelspec": {
   "display_name": "Python 3",
   "language": "python",
   "name": "python3"
  },
  "language_info": {
   "codemirror_mode": {
    "name": "ipython",
    "version": 3
   },
   "file_extension": ".py",
   "mimetype": "text/x-python",
   "name": "python",
   "nbconvert_exporter": "python",
   "pygments_lexer": "ipython3",
   "version": "3.6.8"
  }
 },
 "nbformat": 4,
 "nbformat_minor": 2
}
